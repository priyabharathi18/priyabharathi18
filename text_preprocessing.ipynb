{
 "cells": [
  {
   "cell_type": "markdown",
   "metadata": {},
   "source": [
    "## Hello!\n",
    "\n",
    "Welcome to your first objective of action learning plan. The notebook will discuss all the necessary steps for cleaning or preprocessing user generated text data. One needs to carefully follow the Programming Guidelines and incase of any doubt, reach out in the discussion forum. \n",
    "\n",
    "Right at the bottom of this notebook you will find reference materials links. There are also links for activities and reading materials to refresh your mind or to take a switch from work.\n",
    "\n",
    "\n",
    "**The time limit to complete this objective is 4 days.**\n",
    "\n"
   ]
  },
  {
   "cell_type": "markdown",
   "metadata": {},
   "source": [
    "## What is Text Preprocessing?\n",
    "\n",
    "Text Preprocessing (also known as wrangling or normalization) is a process that consists of a series of steps to clean and standardize text data that can further be used by NLP or Machine Learning or Deep Learning system of algorithms. Some of the popular techinques for text preprocessing inlcudes removing accented characters, tokenization, case conversion, removing speical characters, removing stopwords and spelling corrections. Other related terms for text preprocessing are stemming and lemmatization.\n",
    "\n",
    "The scope of this notebook is to clean the review text data using the list of text preprocessing steps discussed below. The aim is to prepare preprocessing pipeline for any form of used generated text."
   ]
  },
  {
   "cell_type": "markdown",
   "metadata": {},
   "source": [
    "##  Basic Python Programming Guidelines:\n",
    "\n",
    "- All codes should be written within a virtual environment.\n",
    "- Each preprocessing step should be defined as an individual function.\n",
    "- The functions or definitions should contain docstrings (example below illustrates that)\n",
    "- Comment all the necessary lines of code to keep them review ready.\n",
    "- Name of the variables and functions should clearly represent the entity they store and calculate respectivley.\n",
    "- Avoid use of nested loops whenever possible.\n",
    "- All functions should be timed during their run on whole data. Runtime calculation is crucial to check the time complexity of code.\n",
    "- You are free to use internet services to research on related works, but don't copy paste code from any other source. It is advised to take lessons from other peoples work and write the code by yourself.\n",
    "- Codes not written according to the above mentioned points will not pass review phase."
   ]
  },
  {
   "cell_type": "code",
   "execution_count": 3,
   "metadata": {},
   "outputs": [
    {
     "name": "stdout",
     "output_type": "stream",
     "text": [
      "The total number of words in input text: 8\n"
     ]
    }
   ],
   "source": [
    "# an example on how to design your functions\n",
    "\n",
    "def count_words_in_sentence(input_sentence):\n",
    "    \n",
    "    # this is a docstring\n",
    "    \"\"\"\n",
    "    The function will calcuate and return the number of \n",
    "    words present in a given sentence.\n",
    "    \n",
    "    arguments:\n",
    "        input_text: input sentence of type \"string\". \n",
    "                    \n",
    "    return:\n",
    "        word_count: variable to store the count of total\n",
    "                    words in the input sentence\n",
    "    \n",
    "    Example:\n",
    "    Input: \"i am Karan\"\n",
    "    Output: 3\n",
    "    \"\"\"\n",
    "    \n",
    "    # strip white spaces at ends and split sentence into list of words\n",
    "    # pay attention to variable names used\n",
    "    splitted_sentence = input_sentence.strip().split()\n",
    "    \n",
    "    # count words\n",
    "    word_count = len(splitted_sentence)\n",
    "    \n",
    "    # alternatively\n",
    "#     word_count = len(input_sentence.strip().split())\n",
    "\n",
    "    return word_count\n",
    "\n",
    "# test the code with a sample example\n",
    "sentence = \"I have to prepare a text preprocessing pipeline\"\n",
    "print(f\"The total number of words in input text: {count_words_in_sentence(sentence)}\")"
   ]
  },
  {
   "cell_type": "code",
   "execution_count": null,
   "metadata": {},
   "outputs": [],
   "source": []
  },
  {
   "cell_type": "markdown",
   "metadata": {},
   "source": [
    "## Note:\n",
    "All preprocessing steps are described using a sample text. The descriptions will be purely language and mathemactics based, and candidate is reponsible to implement them in code."
   ]
  },
  {
   "cell_type": "code",
   "execution_count": 65,
   "metadata": {},
   "outputs": [],
   "source": [
    "# all the necessary installs\n",
    "#!pip install pandas\n",
    "#!pip install unidecode"
   ]
  },
  {
   "cell_type": "code",
   "execution_count": 81,
   "metadata": {},
   "outputs": [],
   "source": [
    "# all the necessary imports \n",
    "import pandas as pd\n",
    "import unidecode\n",
    "import time"
   ]
  },
  {
   "cell_type": "code",
   "execution_count": 8,
   "metadata": {},
   "outputs": [
    {
     "data": {
      "text/html": [
       "<div>\n",
       "<style scoped>\n",
       "    .dataframe tbody tr th:only-of-type {\n",
       "        vertical-align: middle;\n",
       "    }\n",
       "\n",
       "    .dataframe tbody tr th {\n",
       "        vertical-align: top;\n",
       "    }\n",
       "\n",
       "    .dataframe thead th {\n",
       "        text-align: right;\n",
       "    }\n",
       "</style>\n",
       "<table border=\"1\" class=\"dataframe\">\n",
       "  <thead>\n",
       "    <tr style=\"text-align: right;\">\n",
       "      <th></th>\n",
       "      <th>Unnamed: 0</th>\n",
       "      <th>brand_name</th>\n",
       "      <th>product_id</th>\n",
       "      <th>product_name</th>\n",
       "      <th>review_id</th>\n",
       "      <th>rating</th>\n",
       "      <th>review_title</th>\n",
       "      <th>review_author</th>\n",
       "      <th>review_date</th>\n",
       "      <th>review_text</th>\n",
       "    </tr>\n",
       "  </thead>\n",
       "  <tbody>\n",
       "    <tr>\n",
       "      <th>0</th>\n",
       "      <td>0</td>\n",
       "      <td>Friskies</td>\n",
       "      <td>76368</td>\n",
       "      <td>Friskies Shreds Variety Pack Canned Cat Food, ...</td>\n",
       "      <td>215226291</td>\n",
       "      <td>4</td>\n",
       "      <td>My finicky bunch seem to enjoy this one!</td>\n",
       "      <td>EliG</td>\n",
       "      <td>2019-12-10</td>\n",
       "      <td>My little ones are tough customers but Friskie...</td>\n",
       "    </tr>\n",
       "    <tr>\n",
       "      <th>1</th>\n",
       "      <td>1</td>\n",
       "      <td>Friskies</td>\n",
       "      <td>76368</td>\n",
       "      <td>Friskies Shreds Variety Pack Canned Cat Food, ...</td>\n",
       "      <td>215207322</td>\n",
       "      <td>4</td>\n",
       "      <td>Cats Like it</td>\n",
       "      <td>Beth</td>\n",
       "      <td>2019-12-09</td>\n",
       "      <td>Cats like it and good variety for them. Love t...</td>\n",
       "    </tr>\n",
       "    <tr>\n",
       "      <th>2</th>\n",
       "      <td>2</td>\n",
       "      <td>Friskies</td>\n",
       "      <td>76368</td>\n",
       "      <td>Friskies Shreds Variety Pack Canned Cat Food, ...</td>\n",
       "      <td>215186121</td>\n",
       "      <td>5</td>\n",
       "      <td>That's what's for dinner</td>\n",
       "      <td>Judy</td>\n",
       "      <td>2019-12-09</td>\n",
       "      <td>My cats absolutely love shreds they start bugg...</td>\n",
       "    </tr>\n",
       "    <tr>\n",
       "      <th>3</th>\n",
       "      <td>3</td>\n",
       "      <td>Friskies</td>\n",
       "      <td>76368</td>\n",
       "      <td>Friskies Shreds Variety Pack Canned Cat Food, ...</td>\n",
       "      <td>215141820</td>\n",
       "      <td>5</td>\n",
       "      <td>Cat loves it</td>\n",
       "      <td>Lakeffect</td>\n",
       "      <td>2019-12-08</td>\n",
       "      <td>Our indoor, lazy 16+ year cat has barfed every...</td>\n",
       "    </tr>\n",
       "    <tr>\n",
       "      <th>4</th>\n",
       "      <td>4</td>\n",
       "      <td>Friskies</td>\n",
       "      <td>76368</td>\n",
       "      <td>Friskies Shreds Variety Pack Canned Cat Food, ...</td>\n",
       "      <td>215136825</td>\n",
       "      <td>5</td>\n",
       "      <td>One of my kitties favorite</td>\n",
       "      <td>Ronnifox</td>\n",
       "      <td>2019-12-08</td>\n",
       "      <td>I have two kitties they are 18 years old my bo...</td>\n",
       "    </tr>\n",
       "  </tbody>\n",
       "</table>\n",
       "</div>"
      ],
      "text/plain": [
       "   Unnamed: 0 brand_name  product_id  \\\n",
       "0           0   Friskies       76368   \n",
       "1           1   Friskies       76368   \n",
       "2           2   Friskies       76368   \n",
       "3           3   Friskies       76368   \n",
       "4           4   Friskies       76368   \n",
       "\n",
       "                                        product_name  review_id  rating  \\\n",
       "0  Friskies Shreds Variety Pack Canned Cat Food, ...  215226291       4   \n",
       "1  Friskies Shreds Variety Pack Canned Cat Food, ...  215207322       4   \n",
       "2  Friskies Shreds Variety Pack Canned Cat Food, ...  215186121       5   \n",
       "3  Friskies Shreds Variety Pack Canned Cat Food, ...  215141820       5   \n",
       "4  Friskies Shreds Variety Pack Canned Cat Food, ...  215136825       5   \n",
       "\n",
       "                               review_title review_author review_date  \\\n",
       "0  My finicky bunch seem to enjoy this one!          EliG  2019-12-10   \n",
       "1                              Cats Like it          Beth  2019-12-09   \n",
       "2                  That's what's for dinner          Judy  2019-12-09   \n",
       "3                              Cat loves it     Lakeffect  2019-12-08   \n",
       "4                One of my kitties favorite      Ronnifox  2019-12-08   \n",
       "\n",
       "                                         review_text  \n",
       "0  My little ones are tough customers but Friskie...  \n",
       "1  Cats like it and good variety for them. Love t...  \n",
       "2  My cats absolutely love shreds they start bugg...  \n",
       "3  Our indoor, lazy 16+ year cat has barfed every...  \n",
       "4  I have two kitties they are 18 years old my bo...  "
      ]
     },
     "execution_count": 8,
     "metadata": {},
     "output_type": "execute_result"
    }
   ],
   "source": [
    "# load your data\n",
    "filepath = \"C:/Users/SVPNPA/npl/wet_food.csv\" # define your file path here\n",
    "wet_food_data = pd.read_csv(filepath) # read your data\n",
    "wet_food_data.head()"
   ]
  },
  {
   "cell_type": "markdown",
   "metadata": {},
   "source": [
    "### Premilinary Analyses of the data\n",
    "This section helps to know about the data and its features such as data types, dimensions, null values"
   ]
  },
  {
   "cell_type": "code",
   "execution_count": 15,
   "metadata": {},
   "outputs": [
    {
     "name": "stdout",
     "output_type": "stream",
     "text": [
      "<class 'pandas.core.frame.DataFrame'>\n",
      "RangeIndex: 133218 entries, 0 to 133217\n",
      "Data columns (total 10 columns):\n",
      " #   Column         Non-Null Count   Dtype \n",
      "---  ------         --------------   ----- \n",
      " 0   Unnamed: 0     133218 non-null  int64 \n",
      " 1   brand_name     133218 non-null  object\n",
      " 2   product_id     133218 non-null  int64 \n",
      " 3   product_name   133218 non-null  object\n",
      " 4   review_id      133218 non-null  int64 \n",
      " 5   rating         133218 non-null  int64 \n",
      " 6   review_title   133218 non-null  object\n",
      " 7   review_author  133214 non-null  object\n",
      " 8   review_date    133218 non-null  object\n",
      " 9   review_text    133218 non-null  object\n",
      "dtypes: int64(4), object(6)\n",
      "memory usage: 10.2+ MB\n"
     ]
    }
   ],
   "source": [
    "# Checking for null values and datatypes of the data\n",
    "wet_food_data.info()"
   ]
  },
  {
   "cell_type": "markdown",
   "metadata": {},
   "source": [
    "This depicts that the dataset doesn't have any null values and also shows the data types of each variables in the data."
   ]
  },
  {
   "cell_type": "code",
   "execution_count": 16,
   "metadata": {},
   "outputs": [
    {
     "data": {
      "text/plain": [
       "(133218, 10)"
      ]
     },
     "execution_count": 16,
     "metadata": {},
     "output_type": "execute_result"
    }
   ],
   "source": [
    "# The dimensions of the dataset \n",
    "wet_food_data.shape"
   ]
  },
  {
   "cell_type": "markdown",
   "metadata": {},
   "source": [
    "The data set has 133218 rows and 10 columns."
   ]
  },
  {
   "cell_type": "code",
   "execution_count": 39,
   "metadata": {},
   "outputs": [
    {
     "data": {
      "text/plain": [
       "2559"
      ]
     },
     "execution_count": 39,
     "metadata": {},
     "output_type": "execute_result"
    }
   ],
   "source": [
    "# Checking for duplicate rows in the dataset\n",
    "wet_food_data.duplicated(subset='review_text').sum()"
   ]
  },
  {
   "cell_type": "markdown",
   "metadata": {},
   "source": [
    "The data has 2559 duplicates which means the first duplicate is kept in the data and the other duplicates are depicted in this figure."
   ]
  },
  {
   "cell_type": "code",
   "execution_count": 41,
   "metadata": {},
   "outputs": [
    {
     "data": {
      "text/html": [
       "<div>\n",
       "<style scoped>\n",
       "    .dataframe tbody tr th:only-of-type {\n",
       "        vertical-align: middle;\n",
       "    }\n",
       "\n",
       "    .dataframe tbody tr th {\n",
       "        vertical-align: top;\n",
       "    }\n",
       "\n",
       "    .dataframe thead th {\n",
       "        text-align: right;\n",
       "    }\n",
       "</style>\n",
       "<table border=\"1\" class=\"dataframe\">\n",
       "  <thead>\n",
       "    <tr style=\"text-align: right;\">\n",
       "      <th></th>\n",
       "      <th>Unnamed: 0</th>\n",
       "      <th>brand_name</th>\n",
       "      <th>product_id</th>\n",
       "      <th>product_name</th>\n",
       "      <th>review_id</th>\n",
       "      <th>rating</th>\n",
       "      <th>review_title</th>\n",
       "      <th>review_author</th>\n",
       "      <th>review_date</th>\n",
       "      <th>review_text</th>\n",
       "    </tr>\n",
       "  </thead>\n",
       "  <tbody>\n",
       "    <tr>\n",
       "      <th>2270</th>\n",
       "      <td>691</td>\n",
       "      <td>Fancy Feast</td>\n",
       "      <td>76047</td>\n",
       "      <td>Fancy Feast Classic Seafood Feast Variety Pack...</td>\n",
       "      <td>171126228</td>\n",
       "      <td>5</td>\n",
       "      <td>Our cats like it.</td>\n",
       "      <td>Christie</td>\n",
       "      <td>2017-02-06</td>\n",
       "      <td>Our cats have been eating this food for a long...</td>\n",
       "    </tr>\n",
       "    <tr>\n",
       "      <th>2597</th>\n",
       "      <td>147</td>\n",
       "      <td>Fancy Feast</td>\n",
       "      <td>75978</td>\n",
       "      <td>Fancy Feast Gravy Lovers Poultry &amp; Beef Feast ...</td>\n",
       "      <td>211323965</td>\n",
       "      <td>5</td>\n",
       "      <td>Cats love it</td>\n",
       "      <td>CatFamilyof3</td>\n",
       "      <td>2019-07-18</td>\n",
       "      <td>My cats love this food. It was the first time ...</td>\n",
       "    </tr>\n",
       "    <tr>\n",
       "      <th>2691</th>\n",
       "      <td>241</td>\n",
       "      <td>Fancy Feast</td>\n",
       "      <td>75978</td>\n",
       "      <td>Fancy Feast Gravy Lovers Poultry &amp; Beef Feast ...</td>\n",
       "      <td>207724352</td>\n",
       "      <td>5</td>\n",
       "      <td>Happy with product</td>\n",
       "      <td>Milly</td>\n",
       "      <td>2019-03-18</td>\n",
       "      <td>Happy with product but want to put it on 2 mon...</td>\n",
       "    </tr>\n",
       "    <tr>\n",
       "      <th>2743</th>\n",
       "      <td>293</td>\n",
       "      <td>Fancy Feast</td>\n",
       "      <td>75978</td>\n",
       "      <td>Fancy Feast Gravy Lovers Poultry &amp; Beef Feast ...</td>\n",
       "      <td>206620713</td>\n",
       "      <td>5</td>\n",
       "      <td>Love this food</td>\n",
       "      <td>ariane</td>\n",
       "      <td>2019-01-31</td>\n",
       "      <td>We adopted our cat and this is what she was be...</td>\n",
       "    </tr>\n",
       "    <tr>\n",
       "      <th>2796</th>\n",
       "      <td>346</td>\n",
       "      <td>Fancy Feast</td>\n",
       "      <td>75978</td>\n",
       "      <td>Fancy Feast Gravy Lovers Poultry &amp; Beef Feast ...</td>\n",
       "      <td>205343075</td>\n",
       "      <td>5</td>\n",
       "      <td>Purchased for charity</td>\n",
       "      <td>allaboutcats</td>\n",
       "      <td>2018-12-13</td>\n",
       "      <td>I purchased this product for my favorite rescu...</td>\n",
       "    </tr>\n",
       "    <tr>\n",
       "      <th>...</th>\n",
       "      <td>...</td>\n",
       "      <td>...</td>\n",
       "      <td>...</td>\n",
       "      <td>...</td>\n",
       "      <td>...</td>\n",
       "      <td>...</td>\n",
       "      <td>...</td>\n",
       "      <td>...</td>\n",
       "      <td>...</td>\n",
       "      <td>...</td>\n",
       "    </tr>\n",
       "    <tr>\n",
       "      <th>132505</th>\n",
       "      <td>32</td>\n",
       "      <td>Friskies</td>\n",
       "      <td>155207</td>\n",
       "      <td>Friskies Meaty Bits Ocean Fish in Sauce Canned...</td>\n",
       "      <td>208999575</td>\n",
       "      <td>5</td>\n",
       "      <td>Da Boyz Love It</td>\n",
       "      <td>cobbweb10</td>\n",
       "      <td>2019-05-04</td>\n",
       "      <td>All 3 of my hairballs (Joey + Chandler + Krame...</td>\n",
       "    </tr>\n",
       "    <tr>\n",
       "      <th>132510</th>\n",
       "      <td>37</td>\n",
       "      <td>Friskies</td>\n",
       "      <td>155207</td>\n",
       "      <td>Friskies Meaty Bits Ocean Fish in Sauce Canned...</td>\n",
       "      <td>208616312</td>\n",
       "      <td>5</td>\n",
       "      <td>Bought this for the feral colony</td>\n",
       "      <td>PetOwner</td>\n",
       "      <td>2019-04-22</td>\n",
       "      <td>There's a feral colony in my neighborhood that...</td>\n",
       "    </tr>\n",
       "    <tr>\n",
       "      <th>132975</th>\n",
       "      <td>427</td>\n",
       "      <td>Friskies</td>\n",
       "      <td>93793</td>\n",
       "      <td>Friskies Cat Concoctions Variety Pack Canned C...</td>\n",
       "      <td>178388914</td>\n",
       "      <td>5</td>\n",
       "      <td>Meow Wow Wow!!!</td>\n",
       "      <td>CrankyOldFart</td>\n",
       "      <td>2017-04-30</td>\n",
       "      <td>My Cats response was Meow Wow! Izzy is bouncin...</td>\n",
       "    </tr>\n",
       "    <tr>\n",
       "      <th>133077</th>\n",
       "      <td>16</td>\n",
       "      <td>Whiskas</td>\n",
       "      <td>89476</td>\n",
       "      <td>Whiskas Purrfectly Fish Pouches with Tuna, Sar...</td>\n",
       "      <td>204072632</td>\n",
       "      <td>5</td>\n",
       "      <td>Tasty delight for older cats</td>\n",
       "      <td>KZKAT</td>\n",
       "      <td>2018-10-26</td>\n",
       "      <td>Our older cat was not enjoying dry food as muc...</td>\n",
       "    </tr>\n",
       "    <tr>\n",
       "      <th>133199</th>\n",
       "      <td>1</td>\n",
       "      <td>Nutro</td>\n",
       "      <td>128589</td>\n",
       "      <td>Nutro Perfect Portions Grain-Free Cuts in Grav...</td>\n",
       "      <td>205538499</td>\n",
       "      <td>2</td>\n",
       "      <td>Can they make this into cans please?</td>\n",
       "      <td>Roadcommuter</td>\n",
       "      <td>2018-12-20</td>\n",
       "      <td>The plastic trays are so difficult to open, fo...</td>\n",
       "    </tr>\n",
       "  </tbody>\n",
       "</table>\n",
       "<p>2559 rows × 10 columns</p>\n",
       "</div>"
      ],
      "text/plain": [
       "        Unnamed: 0   brand_name  product_id  \\\n",
       "2270           691  Fancy Feast       76047   \n",
       "2597           147  Fancy Feast       75978   \n",
       "2691           241  Fancy Feast       75978   \n",
       "2743           293  Fancy Feast       75978   \n",
       "2796           346  Fancy Feast       75978   \n",
       "...            ...          ...         ...   \n",
       "132505          32     Friskies      155207   \n",
       "132510          37     Friskies      155207   \n",
       "132975         427     Friskies       93793   \n",
       "133077          16      Whiskas       89476   \n",
       "133199           1        Nutro      128589   \n",
       "\n",
       "                                             product_name  review_id  rating  \\\n",
       "2270    Fancy Feast Classic Seafood Feast Variety Pack...  171126228       5   \n",
       "2597    Fancy Feast Gravy Lovers Poultry & Beef Feast ...  211323965       5   \n",
       "2691    Fancy Feast Gravy Lovers Poultry & Beef Feast ...  207724352       5   \n",
       "2743    Fancy Feast Gravy Lovers Poultry & Beef Feast ...  206620713       5   \n",
       "2796    Fancy Feast Gravy Lovers Poultry & Beef Feast ...  205343075       5   \n",
       "...                                                   ...        ...     ...   \n",
       "132505  Friskies Meaty Bits Ocean Fish in Sauce Canned...  208999575       5   \n",
       "132510  Friskies Meaty Bits Ocean Fish in Sauce Canned...  208616312       5   \n",
       "132975  Friskies Cat Concoctions Variety Pack Canned C...  178388914       5   \n",
       "133077  Whiskas Purrfectly Fish Pouches with Tuna, Sar...  204072632       5   \n",
       "133199  Nutro Perfect Portions Grain-Free Cuts in Grav...  205538499       2   \n",
       "\n",
       "                                review_title  review_author review_date  \\\n",
       "2270                       Our cats like it.       Christie  2017-02-06   \n",
       "2597                            Cats love it   CatFamilyof3  2019-07-18   \n",
       "2691                      Happy with product          Milly  2019-03-18   \n",
       "2743                          Love this food         ariane  2019-01-31   \n",
       "2796                   Purchased for charity   allaboutcats  2018-12-13   \n",
       "...                                      ...            ...         ...   \n",
       "132505                       Da Boyz Love It      cobbweb10  2019-05-04   \n",
       "132510      Bought this for the feral colony       PetOwner  2019-04-22   \n",
       "132975                       Meow Wow Wow!!!  CrankyOldFart  2017-04-30   \n",
       "133077          Tasty delight for older cats          KZKAT  2018-10-26   \n",
       "133199  Can they make this into cans please?   Roadcommuter  2018-12-20   \n",
       "\n",
       "                                              review_text  \n",
       "2270    Our cats have been eating this food for a long...  \n",
       "2597    My cats love this food. It was the first time ...  \n",
       "2691    Happy with product but want to put it on 2 mon...  \n",
       "2743    We adopted our cat and this is what she was be...  \n",
       "2796    I purchased this product for my favorite rescu...  \n",
       "...                                                   ...  \n",
       "132505  All 3 of my hairballs (Joey + Chandler + Krame...  \n",
       "132510  There's a feral colony in my neighborhood that...  \n",
       "132975  My Cats response was Meow Wow! Izzy is bouncin...  \n",
       "133077  Our older cat was not enjoying dry food as muc...  \n",
       "133199  The plastic trays are so difficult to open, fo...  \n",
       "\n",
       "[2559 rows x 10 columns]"
      ]
     },
     "execution_count": 41,
     "metadata": {},
     "output_type": "execute_result"
    }
   ],
   "source": [
    "# To View those duplicated rows\n",
    "wet_food_data.loc[wet_food_data.duplicated(subset='review_text'),:]"
   ]
  },
  {
   "cell_type": "code",
   "execution_count": 45,
   "metadata": {},
   "outputs": [],
   "source": [
    "# Dropping the duplicated review text and saving it in the orginial dataframe\n",
    "wet_food_data = wet_food_data.drop_duplicates(subset='review_text')"
   ]
  },
  {
   "cell_type": "code",
   "execution_count": 46,
   "metadata": {},
   "outputs": [
    {
     "data": {
      "text/plain": [
       "(130659, 10)"
      ]
     },
     "execution_count": 46,
     "metadata": {},
     "output_type": "execute_result"
    }
   ],
   "source": [
    "# The new dimensions of the dataset after dropping the duplicates\n",
    "wet_food_data.shape"
   ]
  },
  {
   "cell_type": "markdown",
   "metadata": {},
   "source": [
    "The new dataframe consists of 130659 rows and 10 columns after dropping 2559 duplicates. "
   ]
  },
  {
   "cell_type": "markdown",
   "metadata": {},
   "source": [
    "### Step1: Remove Accented Characters\n",
    "Accentend characters are letters with marks on top of them. When dealing with user generated text, accented characters are common to be encountered. Hence, we need to convert these characters to standard ASCII form.\n",
    "\n",
    "**Example:**\n",
    "\n",
    "*We aře ready to get a new pet --> We are ready to get a new pet*\n",
    "\n",
    "*My cat lovés this food product --> My cat loves this food product*\n",
    "\n",
    "**Libraries required**: unicodedata or unidecode"
   ]
  },
  {
   "cell_type": "code",
   "execution_count": 85,
   "metadata": {
    "scrolled": false
   },
   "outputs": [
    {
     "name": "stderr",
     "output_type": "stream",
     "text": [
      "C:\\Users\\SVPNPA\\npl\\lib\\site-packages\\ipykernel_launcher.py:11: SettingWithCopyWarning: \n",
      "A value is trying to be set on a copy of a slice from a DataFrame.\n",
      "Try using .loc[row_indexer,col_indexer] = value instead\n",
      "\n",
      "See the caveats in the documentation: https://pandas.pydata.org/pandas-docs/stable/user_guide/indexing.html#returning-a-view-versus-a-copy\n",
      "  # This is added back by InteractiveShellApp.init_path()\n"
     ]
    },
    {
     "data": {
      "text/plain": [
       "(0         My little ones are tough customers but Friskie...\n",
       " 1         Cats like it and good variety for them. Love t...\n",
       " 2         My cats absolutely love shreds they start bugg...\n",
       " 3         Our indoor, lazy 16+ year cat has barfed every...\n",
       " 4         I have two kitties they are 18 years old my bo...\n",
       "                                 ...                        \n",
       " 133213    My 12 year old does not like this either. I ha...\n",
       " 133214    Accidentally bought these instead of pate and ...\n",
       " 133215    My two cats both won't eat this food.\\r\\nThey ...\n",
       " 133216    My cats are a little picky.  They eat Nutro mi...\n",
       " 133217    Gizmo loved Nutro and couldn't get enough of i...\n",
       " Name: review_text, Length: 130659, dtype: object,\n",
       " 0.32889676094055176)"
      ]
     },
     "execution_count": 85,
     "metadata": {},
     "output_type": "execute_result"
    }
   ],
   "source": [
    "# Removal of accented characters from the dataset\n",
    "def accented_characters_removal(wet_food_data):\n",
    "    \"\"\"\n",
    "    The function will remove the accented characters \n",
    "    present in the text by converting them into ASCII form.\n",
    "    \n",
    "    It also includes the execution time of the function\n",
    "    \n",
    "    \"\"\"\n",
    "    start=time.time()\n",
    "    wet_food_data['review_text'] = wet_food_data['review_text'].apply(unidecode.unidecode)\n",
    "    end=time.time()\n",
    "    return wet_food_data['review_text'], end-start\n",
    "    \n",
    "# Calling the accented function on the dataset\n",
    "accented_characters_removal(wet_food_data)"
   ]
  },
  {
   "cell_type": "markdown",
   "metadata": {},
   "source": []
  },
  {
   "cell_type": "code",
   "execution_count": 86,
   "metadata": {},
   "outputs": [
    {
     "data": {
      "text/html": [
       "<div>\n",
       "<style scoped>\n",
       "    .dataframe tbody tr th:only-of-type {\n",
       "        vertical-align: middle;\n",
       "    }\n",
       "\n",
       "    .dataframe tbody tr th {\n",
       "        vertical-align: top;\n",
       "    }\n",
       "\n",
       "    .dataframe thead th {\n",
       "        text-align: right;\n",
       "    }\n",
       "</style>\n",
       "<table border=\"1\" class=\"dataframe\">\n",
       "  <thead>\n",
       "    <tr style=\"text-align: right;\">\n",
       "      <th></th>\n",
       "      <th>Unnamed: 0</th>\n",
       "      <th>brand_name</th>\n",
       "      <th>product_id</th>\n",
       "      <th>product_name</th>\n",
       "      <th>review_id</th>\n",
       "      <th>rating</th>\n",
       "      <th>review_title</th>\n",
       "      <th>review_author</th>\n",
       "      <th>review_date</th>\n",
       "      <th>review_text</th>\n",
       "    </tr>\n",
       "  </thead>\n",
       "  <tbody>\n",
       "    <tr>\n",
       "      <th>0</th>\n",
       "      <td>0</td>\n",
       "      <td>Friskies</td>\n",
       "      <td>76368</td>\n",
       "      <td>Friskies Shreds Variety Pack Canned Cat Food, ...</td>\n",
       "      <td>215226291</td>\n",
       "      <td>4</td>\n",
       "      <td>My finicky bunch seem to enjoy this one!</td>\n",
       "      <td>EliG</td>\n",
       "      <td>2019-12-10</td>\n",
       "      <td>My little ones are tough customers but Friskie...</td>\n",
       "    </tr>\n",
       "    <tr>\n",
       "      <th>1</th>\n",
       "      <td>1</td>\n",
       "      <td>Friskies</td>\n",
       "      <td>76368</td>\n",
       "      <td>Friskies Shreds Variety Pack Canned Cat Food, ...</td>\n",
       "      <td>215207322</td>\n",
       "      <td>4</td>\n",
       "      <td>Cats Like it</td>\n",
       "      <td>Beth</td>\n",
       "      <td>2019-12-09</td>\n",
       "      <td>Cats like it and good variety for them. Love t...</td>\n",
       "    </tr>\n",
       "    <tr>\n",
       "      <th>2</th>\n",
       "      <td>2</td>\n",
       "      <td>Friskies</td>\n",
       "      <td>76368</td>\n",
       "      <td>Friskies Shreds Variety Pack Canned Cat Food, ...</td>\n",
       "      <td>215186121</td>\n",
       "      <td>5</td>\n",
       "      <td>That's what's for dinner</td>\n",
       "      <td>Judy</td>\n",
       "      <td>2019-12-09</td>\n",
       "      <td>My cats absolutely love shreds they start bugg...</td>\n",
       "    </tr>\n",
       "    <tr>\n",
       "      <th>3</th>\n",
       "      <td>3</td>\n",
       "      <td>Friskies</td>\n",
       "      <td>76368</td>\n",
       "      <td>Friskies Shreds Variety Pack Canned Cat Food, ...</td>\n",
       "      <td>215141820</td>\n",
       "      <td>5</td>\n",
       "      <td>Cat loves it</td>\n",
       "      <td>Lakeffect</td>\n",
       "      <td>2019-12-08</td>\n",
       "      <td>Our indoor, lazy 16+ year cat has barfed every...</td>\n",
       "    </tr>\n",
       "    <tr>\n",
       "      <th>4</th>\n",
       "      <td>4</td>\n",
       "      <td>Friskies</td>\n",
       "      <td>76368</td>\n",
       "      <td>Friskies Shreds Variety Pack Canned Cat Food, ...</td>\n",
       "      <td>215136825</td>\n",
       "      <td>5</td>\n",
       "      <td>One of my kitties favorite</td>\n",
       "      <td>Ronnifox</td>\n",
       "      <td>2019-12-08</td>\n",
       "      <td>I have two kitties they are 18 years old my bo...</td>\n",
       "    </tr>\n",
       "  </tbody>\n",
       "</table>\n",
       "</div>"
      ],
      "text/plain": [
       "   Unnamed: 0 brand_name  product_id  \\\n",
       "0           0   Friskies       76368   \n",
       "1           1   Friskies       76368   \n",
       "2           2   Friskies       76368   \n",
       "3           3   Friskies       76368   \n",
       "4           4   Friskies       76368   \n",
       "\n",
       "                                        product_name  review_id  rating  \\\n",
       "0  Friskies Shreds Variety Pack Canned Cat Food, ...  215226291       4   \n",
       "1  Friskies Shreds Variety Pack Canned Cat Food, ...  215207322       4   \n",
       "2  Friskies Shreds Variety Pack Canned Cat Food, ...  215186121       5   \n",
       "3  Friskies Shreds Variety Pack Canned Cat Food, ...  215141820       5   \n",
       "4  Friskies Shreds Variety Pack Canned Cat Food, ...  215136825       5   \n",
       "\n",
       "                               review_title review_author review_date  \\\n",
       "0  My finicky bunch seem to enjoy this one!          EliG  2019-12-10   \n",
       "1                              Cats Like it          Beth  2019-12-09   \n",
       "2                  That's what's for dinner          Judy  2019-12-09   \n",
       "3                              Cat loves it     Lakeffect  2019-12-08   \n",
       "4                One of my kitties favorite      Ronnifox  2019-12-08   \n",
       "\n",
       "                                         review_text  \n",
       "0  My little ones are tough customers but Friskie...  \n",
       "1  Cats like it and good variety for them. Love t...  \n",
       "2  My cats absolutely love shreds they start bugg...  \n",
       "3  Our indoor, lazy 16+ year cat has barfed every...  \n",
       "4  I have two kitties they are 18 years old my bo...  "
      ]
     },
     "execution_count": 86,
     "metadata": {},
     "output_type": "execute_result"
    }
   ],
   "source": [
    "wet_food_data.head(5)"
   ]
  },
  {
   "cell_type": "markdown",
   "metadata": {},
   "source": [
    "### Step2: Case Conversion\n",
    "\n",
    "Get all the text into lower case.\n",
    "\n",
    "**Example:**\n",
    "\n",
    "*My Cat is my world --> my cat is my world*\n"
   ]
  },
  {
   "cell_type": "code",
   "execution_count": 8,
   "metadata": {},
   "outputs": [],
   "source": [
    "# complete the code for text lowercasing\n",
    "def lower_casing_text():\n",
    "    # write your code\n",
    "    pass"
   ]
  },
  {
   "cell_type": "code",
   "execution_count": null,
   "metadata": {},
   "outputs": [],
   "source": []
  },
  {
   "cell_type": "markdown",
   "metadata": {},
   "source": [
    "### Step3: Reduce repeated characters and punctuations\n",
    "\n",
    "In user generated text there are words where some characters are repeated incorrectly to express the writers sentiment or sometimes they are spelling errors. Removal of them is essential to prepare data for higher level NLP task.\n",
    "\n",
    "**Example:**\n",
    "\n",
    "*I had greaaaattt experience with this product........ plus it is reaaaallllyyyy good for my dog*\n",
    "\n",
    "Observe how characters in word *great*,*really* and *........* are repeated to incorrect numbers. \n",
    "\n",
    "Reduce these repeatation to unit characters. If for words like \"really\" for which one repeatation of 'l' is correct are encountered, then you can correct them later in spell checking.\n",
    "\n",
    "**Libraries required**: re or regex"
   ]
  },
  {
   "cell_type": "code",
   "execution_count": 7,
   "metadata": {},
   "outputs": [],
   "source": [
    "# completed the code for removing repeated characters and punctuations\n",
    "def reducing_incorrect_character_repeatation():\n",
    "    # write your code \n",
    "    pass"
   ]
  },
  {
   "cell_type": "code",
   "execution_count": null,
   "metadata": {},
   "outputs": [],
   "source": []
  },
  {
   "cell_type": "markdown",
   "metadata": {},
   "source": [
    "### Step4: Expand contraction words\n",
    "\n",
    "In English Language there exist shortened versions of words used in both written and spoken form.\n",
    "\n",
    "**For Example:** *won't, don't, isn't and more*\n",
    "\n",
    "These type of shortened words are called contractions. Expansion of contraction words helps to standardize the word form of data. A dictionary map of contraction words is required to implement it correctly. The tutorial folder comes with a dictionary file for contraction mapping, one is free to make use of it. Below is a small sample of examples from that file,\n",
    "\n",
    "**CONTRACTION_MAP =** {\n",
    "\"ain't\": \"is not\",\n",
    "\n",
    "\"aren't\": \"are not\",\n",
    "\n",
    "\"can't\": \"cannot\",\n",
    "\n",
    "\"can't've\": \"cannot have\",\n",
    "\n",
    "\"'cause\": \"because\",\n",
    "...........\n",
    "\n",
    "\n",
    "**Libraries required:** re or regex, pycontractions, and spacy"
   ]
  },
  {
   "cell_type": "code",
   "execution_count": 21,
   "metadata": {},
   "outputs": [],
   "source": [
    "# complete the code for expanding contraction words\n",
    "def expanding_contractions():\n",
    "    # write your code\n",
    "    pass"
   ]
  },
  {
   "cell_type": "code",
   "execution_count": null,
   "metadata": {},
   "outputs": [],
   "source": []
  },
  {
   "cell_type": "markdown",
   "metadata": {},
   "source": [
    "### Step5: Remove special characters\n",
    "\n",
    "Characters like *#, %, &, @ and so on* are considered to belong into class of special characters. We can consider non-alphabets, non-digits and punctuations in English language to belong under special characters. These characters do not always have a major role in the data. Sometimes they are used by people to make emoticons like :) or sometimes to design the text to make it attractive. Now, with that been said, it not wise to always remove all kinds of speical characters from the text. Consider the example below,\n",
    "\n",
    "*My dog weighs 3.5 pounds, he is not so healthly & is in need of a vet.*\n",
    "\n",
    "If the aim is to remove all special characters and keep only alphabets and digits, then the processed sentence will look like something below,\n",
    "\n",
    "*My dog weighs 35 pounds he is not so healthy is in need of a vet*\n",
    "\n",
    "The things which gets completely wrong is that the value *3.5* is changed to *35*, the symbol *&* is completely ommitted, and removing *,* makes the text grammatically wrong. Therefore, the task here is not only to remove special characteres from data, but to reasonably know what to remove and what to be kept.\n",
    "\n",
    "Along with execution of this step, candidate will need to provide the list of special characters to be removed with proper reasons.\n",
    "\n",
    "\n",
    "**Libraries needed:** re or regex"
   ]
  },
  {
   "cell_type": "code",
   "execution_count": 1,
   "metadata": {},
   "outputs": [],
   "source": [
    "# completed code for removing special characters\n",
    "def removing_special_characters():\n",
    "    # write your code here\n",
    "    pass"
   ]
  },
  {
   "cell_type": "code",
   "execution_count": null,
   "metadata": {},
   "outputs": [],
   "source": []
  },
  {
   "cell_type": "markdown",
   "metadata": {},
   "source": [
    "### Step6: Remove stopwords\n",
    "\n",
    "Stopwords are words which usually occur most frequently if you aggregate a corpus of text based on singular tokens and checked their frequencies. Words like \"a\", \"the\", \"and\", and so on are stopwords. There is no exhaustive list of stopwords. \n",
    "\n",
    "**Libraries Required:** nltk"
   ]
  },
  {
   "cell_type": "code",
   "execution_count": 1,
   "metadata": {},
   "outputs": [],
   "source": [
    "# completed code for removing stopwords\n",
    "def removing_stopwords():\n",
    "    # write your code here\n",
    "    pass"
   ]
  },
  {
   "cell_type": "markdown",
   "metadata": {},
   "source": [
    "### Step7: Lemmatization\n",
    "\n",
    "Lemmatization is the process of find root word (called lemma) of the words in your data. This helps us to resolve problems of prural forms of words and tense form gets changed to base form.\n",
    "\n",
    "**Libraries required**: nltk"
   ]
  },
  {
   "cell_type": "code",
   "execution_count": 2,
   "metadata": {},
   "outputs": [],
   "source": [
    "# completed code for lemmatization\n",
    "def lemmatization():\n",
    "    # write your code here\n",
    "    pass"
   ]
  },
  {
   "cell_type": "code",
   "execution_count": null,
   "metadata": {},
   "outputs": [],
   "source": []
  },
  {
   "cell_type": "markdown",
   "metadata": {},
   "source": [
    "### Step8: Correct mis-spelled words in text\n",
    "\n",
    "It is often encountered that user generated text contains mis-spelled words. These can be typing errors or spelling mistakes in general. To correct mis-spellings is very crucial for text analysis. Incorrect words can effect Keyword Extraction, Named Entity Recognition and most importantly accurate Information Extraction from text.\n",
    "\n",
    "**Resources provided:** A file containing list of correct words for correcting mis-spelled words.\n",
    "\n",
    "**Libraries required:** re, nltk and textdistance"
   ]
  },
  {
   "cell_type": "code",
   "execution_count": null,
   "metadata": {},
   "outputs": [],
   "source": [
    "# completed code for spelling corrections\n",
    "def spelling_correction():\n",
    "    # write your code here\n",
    "    pass"
   ]
  },
  {
   "cell_type": "code",
   "execution_count": null,
   "metadata": {},
   "outputs": [],
   "source": []
  },
  {
   "cell_type": "markdown",
   "metadata": {},
   "source": [
    "### Step9: Putting in all in single function\n",
    "\n",
    "Write a main function to serialize the above steps on data."
   ]
  },
  {
   "cell_type": "code",
   "execution_count": 2,
   "metadata": {},
   "outputs": [],
   "source": [
    "def preprocessing_text(input_text, special_characters=False,\n",
    "                      stopwords=False, lemmatize=False,\n",
    "                      spell_correct=False):\n",
    "    \"\"\"\n",
    "    This function will preprocess input text and return\n",
    "    the clean text.\n",
    "    \"\"\""
   ]
  },
  {
   "cell_type": "code",
   "execution_count": null,
   "metadata": {},
   "outputs": [],
   "source": []
  },
  {
   "cell_type": "markdown",
   "metadata": {},
   "source": [
    "### References:\n",
    "\n",
    "- https://www.kdnuggets.com/2019/04/text-preprocessing-nlp-machine-learning.html\n",
    "- https://towardsdatascience.com/nlp-text-preprocessing-a-practical-guide-and-template-d80874676e79\n",
    "- https://www.dataquest.io/blog/pandas-big-data/\n",
    "- https://towardsdatascience.com/why-and-how-to-use-pandas-with-large-data-9594dda2ea4c\n",
    "- https://www.typingclub.com/"
   ]
  },
  {
   "cell_type": "code",
   "execution_count": null,
   "metadata": {},
   "outputs": [],
   "source": []
  }
 ],
 "metadata": {
  "kernelspec": {
   "display_name": "Python 3",
   "language": "python",
   "name": "python3"
  },
  "language_info": {
   "codemirror_mode": {
    "name": "ipython",
    "version": 3
   },
   "file_extension": ".py",
   "mimetype": "text/x-python",
   "name": "python",
   "nbconvert_exporter": "python",
   "pygments_lexer": "ipython3",
   "version": "3.6.8"
  }
 },
 "nbformat": 4,
 "nbformat_minor": 2
}
